{
 "cells": [
  {
   "cell_type": "code",
   "execution_count": 3,
   "metadata": {
    "execution": {
     "iopub.execute_input": "2024-11-16T04:34:33.181875Z",
     "iopub.status.busy": "2024-11-16T04:34:33.181505Z",
     "iopub.status.idle": "2024-11-16T04:34:33.186829Z",
     "shell.execute_reply": "2024-11-16T04:34:33.185849Z",
     "shell.execute_reply.started": "2024-11-16T04:34:33.181840Z"
    },
    "trusted": true
   },
   "outputs": [],
   "source": [
    "from transformers import T5ForConditionalGeneration, Trainer, TrainingArguments, EarlyStoppingCallback\n",
    "from datasets import Dataset\n",
    "import torch\n",
    "from glob import glob\n",
    "import os\n",
    "import json\n",
    "from transformers import T5Tokenizer"
   ]
  },
  {
   "cell_type": "code",
   "execution_count": 4,
   "metadata": {
    "execution": {
     "iopub.execute_input": "2024-11-16T04:34:34.783333Z",
     "iopub.status.busy": "2024-11-16T04:34:34.782514Z",
     "iopub.status.idle": "2024-11-16T04:34:34.788173Z",
     "shell.execute_reply": "2024-11-16T04:34:34.787172Z",
     "shell.execute_reply.started": "2024-11-16T04:34:34.783293Z"
    },
    "trusted": true
   },
   "outputs": [
    {
     "name": "stdout",
     "output_type": "stream",
     "text": [
      "GPU is available!\n"
     ]
    }
   ],
   "source": [
    "# Check if GPU is available\n",
    "if not torch.cuda.is_available():\n",
    "    print(\"GPU not available. Make sure to configure a compatible GPU environment.\")\n",
    "else:\n",
    "    print(\"GPU is available!\")\n"
   ]
  },
  {
   "cell_type": "code",
   "execution_count": 5,
   "metadata": {
    "execution": {
     "iopub.execute_input": "2024-11-16T04:34:37.676664Z",
     "iopub.status.busy": "2024-11-16T04:34:37.676020Z",
     "iopub.status.idle": "2024-11-16T04:34:38.970702Z",
     "shell.execute_reply": "2024-11-16T04:34:38.969932Z",
     "shell.execute_reply.started": "2024-11-16T04:34:37.676624Z"
    },
    "trusted": true
   },
   "outputs": [],
   "source": [
    "# Set up data directory and file paths\n",
    "data_dir = \"/kaggle/input/vt-ssum-mainn/VT-SSum-main/test\"\n",
    "all_files = glob(os.path.join(data_dir, '*.json'))\n",
    "\n",
    "# Load the tokenizer and model\n",
    "tokenizer = T5Tokenizer.from_pretrained(\"t5-base\")\n",
    "model = T5ForConditionalGeneration.from_pretrained(\"t5-base\").to(\"cuda\")"
   ]
  },
  {
   "cell_type": "code",
   "execution_count": 6,
   "metadata": {
    "execution": {
     "iopub.execute_input": "2024-11-16T04:34:40.883720Z",
     "iopub.status.busy": "2024-11-16T04:34:40.883328Z",
     "iopub.status.idle": "2024-11-16T04:34:40.891104Z",
     "shell.execute_reply": "2024-11-16T04:34:40.890159Z",
     "shell.execute_reply.started": "2024-11-16T04:34:40.883683Z"
    },
    "trusted": true
   },
   "outputs": [],
   "source": [
    "# Function to preprocess each file\n",
    "def preprocess_file(filepath):\n",
    "    with open(filepath, 'r') as file:\n",
    "        data = json.load(file)\n",
    "    segments = [\" \".join(segment) for segment in data.get(\"segmentation\", [])]\n",
    "    input_text = \" \".join(segments)\n",
    "    summaries = []\n",
    "    summarization_data = data.get(\"summarization\", {})\n",
    "    for clip_key, clip_data in summarization_data.items():\n",
    "        if clip_data.get(\"is_summarization_sample\"):\n",
    "            summary = \" \".join([sent[\"sent\"] for sent in clip_data[\"summarization_data\"] if sent[\"label\"] == 1])\n",
    "            if summary:\n",
    "                summaries.append({\"input_text\": input_text, \"summary_text\": summary})\n",
    "    return summaries\n"
   ]
  },
  {
   "cell_type": "code",
   "execution_count": 7,
   "metadata": {
    "execution": {
     "iopub.execute_input": "2024-11-16T04:34:42.457447Z",
     "iopub.status.busy": "2024-11-16T04:34:42.456578Z",
     "iopub.status.idle": "2024-11-16T04:34:43.531417Z",
     "shell.execute_reply": "2024-11-16T04:34:43.530433Z",
     "shell.execute_reply.started": "2024-11-16T04:34:42.457405Z"
    },
    "trusted": true
   },
   "outputs": [],
   "source": [
    "# Preprocess all files and create the dataset\n",
    "all_data = []\n",
    "for file in all_files:\n",
    "    all_data.extend(preprocess_file(file))"
   ]
  },
  {
   "cell_type": "code",
   "execution_count": 8,
   "metadata": {
    "execution": {
     "iopub.execute_input": "2024-11-16T04:34:43.906861Z",
     "iopub.status.busy": "2024-11-16T04:34:43.906191Z",
     "iopub.status.idle": "2024-11-16T04:34:47.443570Z",
     "shell.execute_reply": "2024-11-16T04:34:47.442788Z",
     "shell.execute_reply.started": "2024-11-16T04:34:43.906823Z"
    },
    "trusted": true
   },
   "outputs": [],
   "source": [
    "# Convert to HuggingFace Dataset\n",
    "dataset = Dataset.from_dict({\n",
    "    \"input_text\": [item[\"input_text\"] for item in all_data],\n",
    "    \"summary_text\": [item[\"summary_text\"] for item in all_data]\n",
    "})"
   ]
  },
  {
   "cell_type": "code",
   "execution_count": 9,
   "metadata": {
    "execution": {
     "iopub.execute_input": "2024-11-16T04:34:47.445863Z",
     "iopub.status.busy": "2024-11-16T04:34:47.445287Z",
     "iopub.status.idle": "2024-11-16T04:34:47.462317Z",
     "shell.execute_reply": "2024-11-16T04:34:47.461455Z",
     "shell.execute_reply.started": "2024-11-16T04:34:47.445818Z"
    },
    "trusted": true
   },
   "outputs": [],
   "source": [
    "# Split into training and evaluation datasets\n",
    "train_test_split = dataset.train_test_split(test_size=0.2)\n",
    "train_dataset = train_test_split[\"train\"]\n",
    "eval_dataset = train_test_split[\"test\"]"
   ]
  },
  {
   "cell_type": "code",
   "execution_count": 10,
   "metadata": {
    "execution": {
     "iopub.execute_input": "2024-11-16T04:34:47.463858Z",
     "iopub.status.busy": "2024-11-16T04:34:47.463483Z",
     "iopub.status.idle": "2024-11-16T04:34:47.470012Z",
     "shell.execute_reply": "2024-11-16T04:34:47.469144Z",
     "shell.execute_reply.started": "2024-11-16T04:34:47.463816Z"
    },
    "trusted": true
   },
   "outputs": [],
   "source": [
    "# Function to tokenize the data\n",
    "def tokenize_data(example):\n",
    "    input_encodings = tokenizer(example[\"input_text\"], truncation=True, padding=\"max_length\", max_length=512)\n",
    "    target_encodings = tokenizer(example[\"summary_text\"], truncation=True, padding=\"max_length\", max_length=128)\n",
    "\n",
    "    # Set labels as target input_ids and replace padding tokens with -100 for ignored tokens\n",
    "    labels = target_encodings[\"input_ids\"]\n",
    "    labels = [-100 if token == tokenizer.pad_token_id else token for token in labels]\n",
    "\n",
    "    return {\n",
    "        \"input_ids\": input_encodings[\"input_ids\"],\n",
    "        \"attention_mask\": input_encodings[\"attention_mask\"],\n",
    "        \"labels\": labels\n",
    "    }"
   ]
  },
  {
   "cell_type": "code",
   "execution_count": 11,
   "metadata": {
    "execution": {
     "iopub.execute_input": "2024-11-16T04:34:48.291871Z",
     "iopub.status.busy": "2024-11-16T04:34:48.291501Z",
     "iopub.status.idle": "2024-11-16T04:44:27.790551Z",
     "shell.execute_reply": "2024-11-16T04:44:27.789642Z",
     "shell.execute_reply.started": "2024-11-16T04:34:48.291837Z"
    },
    "trusted": true
   },
   "outputs": [
    {
     "data": {
      "application/vnd.jupyter.widget-view+json": {
       "model_id": "5e6c216f879f4a8cb2fb576e29ac8865",
       "version_major": 2,
       "version_minor": 0
      },
      "text/plain": [
       "Map:   0%|          | 0/10344 [00:00<?, ? examples/s]"
      ]
     },
     "metadata": {},
     "output_type": "display_data"
    },
    {
     "data": {
      "application/vnd.jupyter.widget-view+json": {
       "model_id": "7e71eb3195dc4e48bab2f463aed1ab0e",
       "version_major": 2,
       "version_minor": 0
      },
      "text/plain": [
       "Map:   0%|          | 0/2587 [00:00<?, ? examples/s]"
      ]
     },
     "metadata": {},
     "output_type": "display_data"
    }
   ],
   "source": [
    "# Tokenize the datasets\n",
    "train_dataset = train_dataset.map(tokenize_data, batched=True)\n",
    "eval_dataset = eval_dataset.map(tokenize_data, batched=True)"
   ]
  },
  {
   "cell_type": "code",
   "execution_count": 12,
   "metadata": {
    "execution": {
     "iopub.execute_input": "2024-11-16T04:44:27.792295Z",
     "iopub.status.busy": "2024-11-16T04:44:27.791989Z",
     "iopub.status.idle": "2024-11-16T04:44:27.797904Z",
     "shell.execute_reply": "2024-11-16T04:44:27.796934Z",
     "shell.execute_reply.started": "2024-11-16T04:44:27.792261Z"
    },
    "trusted": true
   },
   "outputs": [
    {
     "name": "stdout",
     "output_type": "stream",
     "text": [
      "Train Dataset Columns: ['input_text', 'summary_text', 'input_ids', 'attention_mask', 'labels']\n",
      "Eval Dataset Columns: ['input_text', 'summary_text', 'input_ids', 'attention_mask', 'labels']\n"
     ]
    }
   ],
   "source": [
    "# Verify the column names before removing any columns\n",
    "print(\"Train Dataset Columns:\", train_dataset.column_names)\n",
    "print(\"Eval Dataset Columns:\", eval_dataset.column_names)"
   ]
  },
  {
   "cell_type": "code",
   "execution_count": 13,
   "metadata": {
    "execution": {
     "iopub.execute_input": "2024-11-16T04:44:27.799284Z",
     "iopub.status.busy": "2024-11-16T04:44:27.799011Z",
     "iopub.status.idle": "2024-11-16T04:44:27.808923Z",
     "shell.execute_reply": "2024-11-16T04:44:27.808034Z",
     "shell.execute_reply.started": "2024-11-16T04:44:27.799253Z"
    },
    "trusted": true
   },
   "outputs": [],
   "source": [
    "# Remove unnecessary columns while keeping required ones\n",
    "train_dataset = train_dataset.remove_columns([col for col in train_dataset.column_names if col not in [\"input_ids\", \"attention_mask\", \"labels\"]])\n",
    "eval_dataset = eval_dataset.remove_columns([col for col in eval_dataset.column_names if col not in [\"input_ids\", \"attention_mask\", \"labels\"]])\n"
   ]
  },
  {
   "cell_type": "code",
   "execution_count": 14,
   "metadata": {
    "execution": {
     "iopub.execute_input": "2024-11-16T04:44:27.811917Z",
     "iopub.status.busy": "2024-11-16T04:44:27.811240Z",
     "iopub.status.idle": "2024-11-16T04:44:27.817532Z",
     "shell.execute_reply": "2024-11-16T04:44:27.816478Z",
     "shell.execute_reply.started": "2024-11-16T04:44:27.811871Z"
    },
    "trusted": true
   },
   "outputs": [],
   "source": [
    "# Set the dataset format to PyTorch tensors\n",
    "train_dataset.set_format(type='torch', columns=['input_ids', 'attention_mask', 'labels'])\n",
    "eval_dataset.set_format(type='torch', columns=['input_ids', 'attention_mask', 'labels'])\n"
   ]
  },
  {
   "cell_type": "code",
   "execution_count": 15,
   "metadata": {
    "execution": {
     "iopub.execute_input": "2024-11-16T04:44:27.819475Z",
     "iopub.status.busy": "2024-11-16T04:44:27.818826Z",
     "iopub.status.idle": "2024-11-16T04:44:27.856348Z",
     "shell.execute_reply": "2024-11-16T04:44:27.855597Z",
     "shell.execute_reply.started": "2024-11-16T04:44:27.819429Z"
    },
    "trusted": true
   },
   "outputs": [],
   "source": [
    "# Set up training arguments\n",
    "training_args = TrainingArguments(\n",
    "    output_dir=\"./results\",\n",
    "    eval_strategy=\"steps\",\n",
    "    learning_rate=3e-5,\n",
    "    per_device_train_batch_size=8,\n",
    "    per_device_eval_batch_size=8,\n",
    "    num_train_epochs=15,\n",
    "    weight_decay=0.01,\n",
    "    fp16=True,  # Enable mixed precision training if supported by GPU\n",
    "    logging_dir=\"./logs\",\n",
    "    save_steps=500,\n",
    "    eval_steps=500,\n",
    "    gradient_accumulation_steps=4,\n",
    "    load_best_model_at_end=True,\n",
    "    report_to=\"none\"  # Prevents unnecessary logging to external platforms\n",
    ")\n"
   ]
  },
  {
   "cell_type": "code",
   "execution_count": 17,
   "metadata": {
    "execution": {
     "iopub.execute_input": "2024-11-16T04:45:03.385810Z",
     "iopub.status.busy": "2024-11-16T04:45:03.385447Z",
     "iopub.status.idle": "2024-11-16T04:45:03.400588Z",
     "shell.execute_reply": "2024-11-16T04:45:03.399408Z",
     "shell.execute_reply.started": "2024-11-16T04:45:03.385776Z"
    },
    "trusted": true
   },
   "outputs": [],
   "source": [
    "# Add an early stopping callback\n",
    "early_stopping = EarlyStoppingCallback(early_stopping_patience=2)\n",
    "\n",
    "# Initialize the Trainer\n",
    "trainer = Trainer(\n",
    "    model=model,\n",
    "    args=training_args,\n",
    "    train_dataset=train_dataset,\n",
    "    eval_dataset=eval_dataset,\n",
    "    callbacks=[early_stopping]\n",
    ")\n"
   ]
  },
  {
   "cell_type": "code",
   "execution_count": 18,
   "metadata": {
    "execution": {
     "iopub.execute_input": "2024-11-16T04:45:08.416273Z",
     "iopub.status.busy": "2024-11-16T04:45:08.415266Z",
     "iopub.status.idle": "2024-11-16T08:55:30.980621Z",
     "shell.execute_reply": "2024-11-16T08:55:30.979742Z",
     "shell.execute_reply.started": "2024-11-16T04:45:08.416213Z"
    },
    "trusted": true
   },
   "outputs": [
    {
     "name": "stderr",
     "output_type": "stream",
     "text": [
      "/opt/conda/lib/python3.10/site-packages/torch/nn/parallel/parallel_apply.py:79: FutureWarning: `torch.cuda.amp.autocast(args...)` is deprecated. Please use `torch.amp.autocast('cuda', args...)` instead.\n",
      "  with torch.cuda.device(device), torch.cuda.stream(stream), autocast(enabled=autocast_enabled):\n",
      "/opt/conda/lib/python3.10/site-packages/torch/nn/parallel/_functions.py:68: UserWarning: Was asked to gather along dimension 0, but all input tensors were scalars; will instead unsqueeze and return a vector.\n",
      "  warnings.warn('Was asked to gather along dimension 0, but all '\n"
     ]
    },
    {
     "data": {
      "text/html": [
       "\n",
       "    <div>\n",
       "      \n",
       "      <progress value='2415' max='2415' style='width:300px; height:20px; vertical-align: middle;'></progress>\n",
       "      [2415/2415 4:10:14, Epoch 14/15]\n",
       "    </div>\n",
       "    <table border=\"1\" class=\"dataframe\">\n",
       "  <thead>\n",
       " <tr style=\"text-align: left;\">\n",
       "      <th>Step</th>\n",
       "      <th>Training Loss</th>\n",
       "      <th>Validation Loss</th>\n",
       "    </tr>\n",
       "  </thead>\n",
       "  <tbody>\n",
       "    <tr>\n",
       "      <td>500</td>\n",
       "      <td>1.497900</td>\n",
       "      <td>1.155013</td>\n",
       "    </tr>\n",
       "    <tr>\n",
       "      <td>1000</td>\n",
       "      <td>1.185900</td>\n",
       "      <td>1.145362</td>\n",
       "    </tr>\n",
       "    <tr>\n",
       "      <td>1500</td>\n",
       "      <td>1.168200</td>\n",
       "      <td>1.142518</td>\n",
       "    </tr>\n",
       "    <tr>\n",
       "      <td>2000</td>\n",
       "      <td>1.155400</td>\n",
       "      <td>1.140511</td>\n",
       "    </tr>\n",
       "  </tbody>\n",
       "</table><p>"
      ],
      "text/plain": [
       "<IPython.core.display.HTML object>"
      ]
     },
     "metadata": {},
     "output_type": "display_data"
    },
    {
     "name": "stderr",
     "output_type": "stream",
     "text": [
      "/opt/conda/lib/python3.10/site-packages/torch/nn/parallel/parallel_apply.py:79: FutureWarning: `torch.cuda.amp.autocast(args...)` is deprecated. Please use `torch.amp.autocast('cuda', args...)` instead.\n",
      "  with torch.cuda.device(device), torch.cuda.stream(stream), autocast(enabled=autocast_enabled):\n",
      "/opt/conda/lib/python3.10/site-packages/torch/nn/parallel/_functions.py:68: UserWarning: Was asked to gather along dimension 0, but all input tensors were scalars; will instead unsqueeze and return a vector.\n",
      "  warnings.warn('Was asked to gather along dimension 0, but all '\n",
      "/opt/conda/lib/python3.10/site-packages/torch/nn/parallel/parallel_apply.py:79: FutureWarning: `torch.cuda.amp.autocast(args...)` is deprecated. Please use `torch.amp.autocast('cuda', args...)` instead.\n",
      "  with torch.cuda.device(device), torch.cuda.stream(stream), autocast(enabled=autocast_enabled):\n",
      "/opt/conda/lib/python3.10/site-packages/torch/nn/parallel/_functions.py:68: UserWarning: Was asked to gather along dimension 0, but all input tensors were scalars; will instead unsqueeze and return a vector.\n",
      "  warnings.warn('Was asked to gather along dimension 0, but all '\n",
      "/opt/conda/lib/python3.10/site-packages/torch/nn/parallel/parallel_apply.py:79: FutureWarning: `torch.cuda.amp.autocast(args...)` is deprecated. Please use `torch.amp.autocast('cuda', args...)` instead.\n",
      "  with torch.cuda.device(device), torch.cuda.stream(stream), autocast(enabled=autocast_enabled):\n",
      "/opt/conda/lib/python3.10/site-packages/torch/nn/parallel/_functions.py:68: UserWarning: Was asked to gather along dimension 0, but all input tensors were scalars; will instead unsqueeze and return a vector.\n",
      "  warnings.warn('Was asked to gather along dimension 0, but all '\n",
      "/opt/conda/lib/python3.10/site-packages/torch/nn/parallel/parallel_apply.py:79: FutureWarning: `torch.cuda.amp.autocast(args...)` is deprecated. Please use `torch.amp.autocast('cuda', args...)` instead.\n",
      "  with torch.cuda.device(device), torch.cuda.stream(stream), autocast(enabled=autocast_enabled):\n",
      "/opt/conda/lib/python3.10/site-packages/torch/nn/parallel/_functions.py:68: UserWarning: Was asked to gather along dimension 0, but all input tensors were scalars; will instead unsqueeze and return a vector.\n",
      "  warnings.warn('Was asked to gather along dimension 0, but all '\n",
      "There were missing keys in the checkpoint model loaded: ['encoder.embed_tokens.weight', 'decoder.embed_tokens.weight', 'lm_head.weight'].\n"
     ]
    },
    {
     "data": {
      "text/plain": [
       "TrainOutput(global_step=2415, training_loss=1.2342984343661039, metrics={'train_runtime': 15021.5569, 'train_samples_per_second': 10.329, 'train_steps_per_second': 0.161, 'total_flos': 9.405232828121088e+16, 'train_loss': 1.2342984343661039, 'epoch': 14.930448222565687})"
      ]
     },
     "execution_count": 18,
     "metadata": {},
     "output_type": "execute_result"
    }
   ],
   "source": [
    "# Train the model\n",
    "trainer.train()"
   ]
  },
  {
   "cell_type": "code",
   "execution_count": 19,
   "metadata": {
    "execution": {
     "iopub.execute_input": "2024-11-16T08:55:30.995046Z",
     "iopub.status.busy": "2024-11-16T08:55:30.994771Z",
     "iopub.status.idle": "2024-11-16T08:57:08.892436Z",
     "shell.execute_reply": "2024-11-16T08:57:08.891489Z",
     "shell.execute_reply.started": "2024-11-16T08:55:30.995014Z"
    },
    "trusted": true
   },
   "outputs": [
    {
     "name": "stderr",
     "output_type": "stream",
     "text": [
      "/opt/conda/lib/python3.10/site-packages/torch/nn/parallel/parallel_apply.py:79: FutureWarning: `torch.cuda.amp.autocast(args...)` is deprecated. Please use `torch.amp.autocast('cuda', args...)` instead.\n",
      "  with torch.cuda.device(device), torch.cuda.stream(stream), autocast(enabled=autocast_enabled):\n",
      "/opt/conda/lib/python3.10/site-packages/torch/nn/parallel/_functions.py:68: UserWarning: Was asked to gather along dimension 0, but all input tensors were scalars; will instead unsqueeze and return a vector.\n",
      "  warnings.warn('Was asked to gather along dimension 0, but all '\n"
     ]
    },
    {
     "data": {
      "text/html": [
       "\n",
       "    <div>\n",
       "      \n",
       "      <progress value='162' max='162' style='width:300px; height:20px; vertical-align: middle;'></progress>\n",
       "      [162/162 01:37]\n",
       "    </div>\n",
       "    "
      ],
      "text/plain": [
       "<IPython.core.display.HTML object>"
      ]
     },
     "metadata": {},
     "output_type": "display_data"
    },
    {
     "name": "stdout",
     "output_type": "stream",
     "text": [
      "Evaluation Metrics: {'eval_loss': 1.1405110359191895, 'eval_runtime': 97.8893, 'eval_samples_per_second': 26.428, 'eval_steps_per_second': 1.655, 'epoch': 14.930448222565687}\n"
     ]
    }
   ],
   "source": [
    "\n",
    "# Evaluate the model\n",
    "metrics = trainer.evaluate()\n",
    "print(\"Evaluation Metrics:\", metrics)"
   ]
  },
  {
   "cell_type": "code",
   "execution_count": null,
   "metadata": {
    "execution": {
     "iopub.execute_input": "2024-11-16T09:08:17.510699Z",
     "iopub.status.busy": "2024-11-16T09:08:17.510322Z"
    },
    "trusted": true
   },
   "outputs": [
    {
     "data": {
      "application/vnd.jupyter.widget-view+json": {
       "model_id": "6c55f16d80384cde89355c6441aa36d8",
       "version_major": 2,
       "version_minor": 0
      },
      "text/plain": [
       "tokenizer_config.json:   0%|          | 0.00/2.32k [00:00<?, ?B/s]"
      ]
     },
     "metadata": {},
     "output_type": "display_data"
    },
    {
     "data": {
      "application/vnd.jupyter.widget-view+json": {
       "model_id": "89a968b7748a4482ad9f3495d1622d5e",
       "version_major": 2,
       "version_minor": 0
      },
      "text/plain": [
       "spiece.model:   0%|          | 0.00/792k [00:00<?, ?B/s]"
      ]
     },
     "metadata": {},
     "output_type": "display_data"
    },
    {
     "data": {
      "application/vnd.jupyter.widget-view+json": {
       "model_id": "2896e23b4d2944b8a63f8b950b83ae51",
       "version_major": 2,
       "version_minor": 0
      },
      "text/plain": [
       "tokenizer.json:   0%|          | 0.00/1.39M [00:00<?, ?B/s]"
      ]
     },
     "metadata": {},
     "output_type": "display_data"
    }
   ],
   "source": [
    "import os\n",
    "import json\n",
    "from glob import glob\n",
    "import torch\n",
    "from transformers import T5Tokenizer, T5ForConditionalGeneration\n",
    "from rouge_score import rouge_scorer\n",
    "\n",
    "# Define paths and load model/tokenizer\n",
    "test_data_dir = \"/kaggle/input/vt-ssum-mainn/VT-SSum-main/test\"\n",
    "model_path = \"/kaggle/working/results/checkpoint-2415\"  # Replace with actual model path if needed\n",
    "\n",
    "# Load the model and tokenizer\n",
    "tokenizer = T5Tokenizer.from_pretrained(\"t5-small\")\n",
    "model = T5ForConditionalGeneration.from_pretrained(model_path).to(\"cuda\")\n",
    "\n",
    "# Initialize ROUGE scorer\n",
    "scorer = rouge_scorer.RougeScorer(['rouge1', 'rouge2', 'rougeL'], use_stemmer=True)\n",
    "\n",
    "# Function to evaluate each JSON file\n",
    "def evaluate_json_file(filepath):\n",
    "    with open(filepath, 'r') as f:\n",
    "        data = json.load(f)\n",
    "\n",
    "    # Extract input and target summaries\n",
    "    segments = [\" \".join(segment) for segment in data.get(\"segmentation\", [])]\n",
    "    input_text = \" \".join(segments)\n",
    "\n",
    "    summarization_data = data.get(\"summarization\", {})\n",
    "    target_summaries = [\n",
    "        \" \".join([sent[\"sent\"] for sent in clip_data[\"summarization_data\"] if sent[\"label\"] == 1])\n",
    "        for clip_key, clip_data in summarization_data.items() if clip_data.get(\"is_summarization_sample\")\n",
    "    ]\n",
    "\n",
    "    # Skip files with no valid target summaries\n",
    "    if not target_summaries:\n",
    "        return []\n",
    "\n",
    "    # Generate model summaries and compute ROUGE scores\n",
    "    inputs = tokenizer(input_text, return_tensors=\"pt\", max_length=512, truncation=True, padding=\"max_length\").to(\"cuda\")\n",
    "    summary_ids = model.generate(inputs[\"input_ids\"], max_length=128, num_beams=4, early_stopping=True)\n",
    "    generated_summary = tokenizer.decode(summary_ids[0], skip_special_tokens=True)\n",
    "\n",
    "    # Calculate ROUGE for each target summary\n",
    "    rouge_scores = []\n",
    "    for target_summary in target_summaries:\n",
    "        scores = scorer.score(target_summary, generated_summary)\n",
    "        rouge_scores.append(scores)\n",
    "\n",
    "    return rouge_scores\n",
    "\n",
    "# Evaluate all files and aggregate results\n",
    "all_rouge_scores = []\n",
    "test_files = glob(os.path.join(test_data_dir, '*.json'))\n",
    "\n",
    "for test_file in test_files:\n",
    "    file_scores = evaluate_json_file(test_file)\n",
    "    all_rouge_scores.extend(file_scores)\n",
    "\n",
    "# Compute average ROUGE scores\n",
    "average_scores = {}\n",
    "for rouge_type in ['rouge1', 'rouge2', 'rougeL']:\n",
    "    average_scores[rouge_type] = {\n",
    "        \"precision\": sum(score[rouge_type].precision for score in all_rouge_scores) / len(all_rouge_scores),\n",
    "        \"recall\": sum(score[rouge_type].recall for score in all_rouge_scores) / len(all_rouge_scores),\n",
    "        \"fmeasure\": sum(score[rouge_type].fmeasure for score in all_rouge_scores) / len(all_rouge_scores),\n",
    "    }\n",
    "\n",
    "print(\"Average ROUGE Scores:\", average_scores)\n"
   ]
  },
  {
   "cell_type": "code",
   "execution_count": null,
   "metadata": {
    "trusted": true
   },
   "outputs": [],
   "source": []
  }
 ],
 "metadata": {
  "kaggle": {
   "accelerator": "nvidiaTeslaT4",
   "dataSources": [
    {
     "datasetId": 6095448,
     "sourceId": 9918453,
     "sourceType": "datasetVersion"
    }
   ],
   "dockerImageVersionId": 30787,
   "isGpuEnabled": true,
   "isInternetEnabled": true,
   "language": "python",
   "sourceType": "notebook"
  },
  "kernelspec": {
   "display_name": "Python 3",
   "language": "python",
   "name": "python3"
  },
  "language_info": {
   "codemirror_mode": {
    "name": "ipython",
    "version": 3
   },
   "file_extension": ".py",
   "mimetype": "text/x-python",
   "name": "python",
   "nbconvert_exporter": "python",
   "pygments_lexer": "ipython3",
   "version": "3.10.14"
  }
 },
 "nbformat": 4,
 "nbformat_minor": 4
}
